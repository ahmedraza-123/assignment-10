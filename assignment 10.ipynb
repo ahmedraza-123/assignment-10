{
 "cells": [
  {
   "cell_type": "code",
   "execution_count": 1,
   "metadata": {},
   "outputs": [
    {
     "name": "stdout",
     "output_type": "stream",
     "text": [
      "\t\t\tSAYLANI ONLINE ACADEMY BADGE-C\n",
      "Saylani Mass IT Training\n",
      "\tsaylani mass it training\n",
      "saylani mass it training\n",
      "\tsaylani mass it training\n",
      "saylani mass it training\n",
      "\tsaylani mass it training\n",
      "saylani mass it training\n",
      "\tsaylani mass it training\n",
      "\tsaylani mass it training\n",
      "saylani mass it training\n",
      "\tsaylani mass it training\n"
     ]
    }
   ],
   "source": [
    "print (\"\\t\\t\\tSAYLANI ONLINE ACADEMY BADGE-C\")\n",
    "print(\"Saylani Mass IT Training\")\n",
    "print(\"\\tsaylani mass it training\")\n",
    "print(\"saylani mass it training\")\n",
    "print(\"\\tsaylani mass it training\")\n",
    "print(\"saylani mass it training\")\n",
    "print(\"\\tsaylani mass it training\")\n",
    "print(\"saylani mass it training\")\n",
    "print(\"\\tsaylani mass it training\")\n",
    "print(\"\\tsaylani mass it training\")\n",
    "print(\"saylani mass it training\")\n",
    "print(\"\\tsaylani mass it training\")"
   ]
  },
  {
   "cell_type": "code",
   "execution_count": 3,
   "metadata": {},
   "outputs": [
    {
     "name": "stdout",
     "output_type": "stream",
     "text": [
      "Saylani Mass IT Training \tSaylani Mass IT Training\n",
      "Saylani Mass IT Training \tSaylani Mass IT Training\n",
      "Saylani Mass IT Training \tSaylani Mass IT Training\n",
      "Saylani Mass IT Training \tSaylani Mass IT Training\n"
     ]
    }
   ],
   "source": [
    "print(\"Saylani Mass IT Training \\tSaylani Mass IT Training\")\n",
    "print(\"Saylani Mass IT Training \\tSaylani Mass IT Training\")\n",
    "print(\"Saylani Mass IT Training \\tSaylani Mass IT Training\")\n",
    "print(\"Saylani Mass IT Training \\tSaylani Mass IT Training\")"
   ]
  },
  {
   "cell_type": "code",
   "execution_count": 4,
   "metadata": {},
   "outputs": [
    {
     "name": "stdout",
     "output_type": "stream",
     "text": [
      "\tSaylani Mass IT Training \n",
      "Saylani Mass IT Training \tSaylani Mass IT Training\n",
      "\tSaylani Mass IT Training \n",
      "Saylani Mass IT Training \tSaylani Mass IT Training\n",
      "\tSaylani Mass IT Training \n",
      "Saylani Mass IT Training \tSaylani Mass IT Training\n",
      "\tSaylani Mass IT Training \n",
      "Saylani Mass IT Training \tSaylani Mass IT Training\n",
      "\tSaylani Mass IT Training \n",
      "Saylani Mass IT Training \tSaylani Mass IT Training\n"
     ]
    }
   ],
   "source": [
    "print(\"\\tSaylani Mass IT Training \\nSaylani Mass IT Training \\tSaylani Mass IT Training\")\n",
    "print(\"\\tSaylani Mass IT Training \\nSaylani Mass IT Training \\tSaylani Mass IT Training\")\n",
    "print(\"\\tSaylani Mass IT Training \\nSaylani Mass IT Training \\tSaylani Mass IT Training\")\n",
    "print(\"\\tSaylani Mass IT Training \\nSaylani Mass IT Training \\tSaylani Mass IT Training\")\n",
    "print(\"\\tSaylani Mass IT Training \\nSaylani Mass IT Training \\tSaylani Mass IT Training\")"
   ]
  },
  {
   "cell_type": "code",
   "execution_count": 5,
   "metadata": {},
   "outputs": [
    {
     "name": "stdout",
     "output_type": "stream",
     "text": [
      "saylani Mass IT Training\n",
      "\tsaylani Mass IT Training\n",
      "\t\tsaylani Mass IT Training\n",
      "\t\t\tsaylani Mass IT Training\n",
      "\t\tsaylani Mass IT Training\n",
      "\tsaylani Mass IT Training\n",
      "saylani Mass IT Training\n"
     ]
    }
   ],
   "source": [
    "print(\"saylani Mass IT Training\")\n",
    "print(\"\\tsaylani Mass IT Training\")\n",
    "print(\"\\t\\tsaylani Mass IT Training\")\n",
    "print(\"\\t\\t\\tsaylani Mass IT Training\")\n",
    "print(\"\\t\\tsaylani Mass IT Training\")\n",
    "print(\"\\tsaylani Mass IT Training\")\n",
    "print(\"saylani Mass IT Training\")\n"
   ]
  },
  {
   "cell_type": "code",
   "execution_count": null,
   "metadata": {},
   "outputs": [],
   "source": []
  }
 ],
 "metadata": {
  "kernelspec": {
   "display_name": "Python 3",
   "language": "python",
   "name": "python3"
  },
  "language_info": {
   "codemirror_mode": {
    "name": "ipython",
    "version": 3
   },
   "file_extension": ".py",
   "mimetype": "text/x-python",
   "name": "python",
   "nbconvert_exporter": "python",
   "pygments_lexer": "ipython3",
   "version": "3.7.6"
  }
 },
 "nbformat": 4,
 "nbformat_minor": 4
}
